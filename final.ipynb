{
 "cells": [
  {
   "cell_type": "markdown",
   "metadata": {},
   "source": [
    "# <p style=\"background-color:#682F2F;font-family:newtimeroman;color:#FFF9ED;font-size:150%;text-align:center;border-radius:10px 10px;\">Income Classification - CCI Summit Kaggle Competition</p>\n",
    "Di era digital yang berkembang pesat, kemampuan untuk menganalisis dan menginterpretasi data menjadi sangat penting. Machine learning adalah kunci untuk pengambilan keputusan yang lebih cerdas dan strategis di berbagai bidang, termasuk industri, bisnis, dan pemerintahan. Dengan analisis data yang tepat, organisasi dapat mengoptimalkan performa, mengidentifikasi tren, dan mengembangkan solusi inovatif.\n",
    "\n",
    "Dalam konteks ini, kemampuan untuk mengklasifikasikan pendapatan individu berdasarkan data demografis dan pekerjaan sangat penting. Dataset yang digunakan dalam kompetisi ini mencakup berbagai fitur demografis. Tujuan utamanya adalah untuk menganalisis data tersebut dan memprediksi apakah seseorang memiliki pendapatan di atas atau di bawah $50K per tahun.\n",
    "\n",
    "Kompetisi CCI Summit: Kaggle Competition 2024 dirancang untuk mengasah keterampilan mahasiswa dalam machine learning. Kompetisi ini memberikan platform bagi para peserta untuk menerapkan pengetahuan mereka dalam menghadapi tantangan nyata, berkolaborasi dengan tim, dan memecahkan masalah kompleks dengan"
   ]
  },
  {
   "cell_type": "markdown",
   "metadata": {},
   "source": []
  },
  {
   "cell_type": "markdown",
   "metadata": {},
   "source": [
    "<a id='top'></a>\n",
    "<div class=\"list-group\" id=\"list-tab\" role=\"tablist\">\n",
    "<p style=\"background-color:#682F2F;font-family:newtimeroman;color:#FFF9ED;font-size:150%;text-align:center;border-radius:10px 10px;\">TABLE OF CONTENTS</p>   \n",
    "    \n",
    "* [1. IMPORTING LIBRARIES](#1)\n",
    "    \n",
    "* [2. LOADING DATA](#2)\n",
    "    \n",
    "* [3. DATA CLEANING](#3)\n",
    "    \n",
    "* [4. DATA PREPROCESSING](#4)   \n",
    "    \n",
    "* [5. DIMENSIONALITY REDUCTION](#5) \n",
    "      \n",
    "* [6. CLUSTERING](#6)\n",
    "    \n",
    "* [7. EVALUATING MODELS](#7)\n",
    "    \n",
    "* [8. PROFILING](#8)\n",
    "    \n",
    "* [9. CONCLUSION](#9)\n",
    "    \n",
    "* [10. END](#10)"
   ]
  },
  {
   "cell_type": "markdown",
   "metadata": {},
   "source": [
    "<a id=\"2\"></a>\n",
    "# <p style=\"background-color:#682F2F;font-family:newtimeroman;color:#FFF9ED;font-size:150%;text-align:center;border-radius:10px 10px;\">Importing Libraries</p>"
   ]
  },
  {
   "cell_type": "code",
   "execution_count": 1,
   "metadata": {},
   "outputs": [],
   "source": [
    "import pandas as pd\n",
    "import numpy as np\n",
    "import seaborn as sns\n",
    "import matplotlib.pyplot as plt\n",
    "%matplotlib inline\n",
    "\n",
    "from sklearn.impute import KNNImputer\n",
    "from sklearn.preprocessing import LabelEncoder, OrdinalEncoder\n",
    "from feature_engine.encoding import (\n",
    "    CountFrequencyEncoder\n",
    ")\n",
    "\n",
    "# import train_test_split\n",
    "from sklearn.model_selection import train_test_split\n",
    "import category_encoders as ce\n",
    "from sklearn.feature_selection import VarianceThreshold"
   ]
  },
  {
   "cell_type": "markdown",
   "metadata": {},
   "source": [
    "<a id=\"2\"></a>\n",
    "# <p style=\"background-color:#682F2F;font-family:newtimeroman;color:#FFF9ED;font-size:150%;text-align:center;border-radius:10px 10px;\">Load Data</p>"
   ]
  },
  {
   "cell_type": "code",
   "execution_count": 2,
   "metadata": {},
   "outputs": [
    {
     "data": {
      "text/html": [
       "<div>\n",
       "<style scoped>\n",
       "    .dataframe tbody tr th:only-of-type {\n",
       "        vertical-align: middle;\n",
       "    }\n",
       "\n",
       "    .dataframe tbody tr th {\n",
       "        vertical-align: top;\n",
       "    }\n",
       "\n",
       "    .dataframe thead th {\n",
       "        text-align: right;\n",
       "    }\n",
       "</style>\n",
       "<table border=\"1\" class=\"dataframe\">\n",
       "  <thead>\n",
       "    <tr style=\"text-align: right;\">\n",
       "      <th></th>\n",
       "      <th>ID</th>\n",
       "      <th>Tahun Kelahiran</th>\n",
       "      <th>Kelas Pekerjaan</th>\n",
       "      <th>fnlwgt</th>\n",
       "      <th>Pendidikan</th>\n",
       "      <th>Jenjang Pendidikan</th>\n",
       "      <th>Status</th>\n",
       "      <th>Pekerjaan</th>\n",
       "      <th>Hubungan</th>\n",
       "      <th>Etnis</th>\n",
       "      <th>sex</th>\n",
       "      <th>pendapatan</th>\n",
       "      <th>pengeluaran</th>\n",
       "      <th>hours per week</th>\n",
       "      <th>Asal Negara</th>\n",
       "      <th>jumlah_anak</th>\n",
       "      <th>income</th>\n",
       "    </tr>\n",
       "  </thead>\n",
       "  <tbody>\n",
       "    <tr>\n",
       "      <th>0</th>\n",
       "      <td>478</td>\n",
       "      <td>1992</td>\n",
       "      <td>Swasta</td>\n",
       "      <td>37210</td>\n",
       "      <td>Sarjana</td>\n",
       "      <td>Sarjana</td>\n",
       "      <td>Menikah</td>\n",
       "      <td>Eksekutif Manager</td>\n",
       "      <td>Suami</td>\n",
       "      <td>1</td>\n",
       "      <td>Male</td>\n",
       "      <td>0</td>\n",
       "      <td>0</td>\n",
       "      <td>45</td>\n",
       "      <td>United-States</td>\n",
       "      <td>2</td>\n",
       "      <td>&gt;50K</td>\n",
       "    </tr>\n",
       "    <tr>\n",
       "      <th>1</th>\n",
       "      <td>479</td>\n",
       "      <td>1981</td>\n",
       "      <td>Swasta</td>\n",
       "      <td>101950</td>\n",
       "      <td>Magister</td>\n",
       "      <td>Magister</td>\n",
       "      <td>Belum-menikah</td>\n",
       "      <td>Eksekutif Manager</td>\n",
       "      <td>Tidak dalam Keluarga</td>\n",
       "      <td>1</td>\n",
       "      <td>Female</td>\n",
       "      <td>0</td>\n",
       "      <td>0</td>\n",
       "      <td>45</td>\n",
       "      <td>United-States</td>\n",
       "      <td>0</td>\n",
       "      <td>&lt;=50K</td>\n",
       "    </tr>\n",
       "    <tr>\n",
       "      <th>2</th>\n",
       "      <td>480</td>\n",
       "      <td>2004</td>\n",
       "      <td>NaN</td>\n",
       "      <td>122244</td>\n",
       "      <td>SMA Grad</td>\n",
       "      <td>SMA Grad</td>\n",
       "      <td>Belum-menikah</td>\n",
       "      <td>NaN</td>\n",
       "      <td>Tidak dalam Keluarga</td>\n",
       "      <td>1</td>\n",
       "      <td>Female</td>\n",
       "      <td>0</td>\n",
       "      <td>0</td>\n",
       "      <td>28</td>\n",
       "      <td>United-States</td>\n",
       "      <td>0</td>\n",
       "      <td>&lt;=50K</td>\n",
       "    </tr>\n",
       "    <tr>\n",
       "      <th>3</th>\n",
       "      <td>481</td>\n",
       "      <td>1984</td>\n",
       "      <td>Pemerintah daerah</td>\n",
       "      <td>24763</td>\n",
       "      <td>Diploma</td>\n",
       "      <td>Kuliah</td>\n",
       "      <td>Cerai</td>\n",
       "      <td>Transportasi dan Pengangkutan</td>\n",
       "      <td>Belum Menikah</td>\n",
       "      <td>1</td>\n",
       "      <td>Male</td>\n",
       "      <td>6849</td>\n",
       "      <td>0</td>\n",
       "      <td>40</td>\n",
       "      <td>United-States</td>\n",
       "      <td>0</td>\n",
       "      <td>&lt;=50K</td>\n",
       "    </tr>\n",
       "    <tr>\n",
       "      <th>4</th>\n",
       "      <td>482</td>\n",
       "      <td>2000</td>\n",
       "      <td>Swasta</td>\n",
       "      <td>113936</td>\n",
       "      <td>Sarjana</td>\n",
       "      <td>Sarjana</td>\n",
       "      <td>Belum-menikah</td>\n",
       "      <td>Spesialis Profesional</td>\n",
       "      <td>Punya Anak</td>\n",
       "      <td>1</td>\n",
       "      <td>Male</td>\n",
       "      <td>0</td>\n",
       "      <td>0</td>\n",
       "      <td>40</td>\n",
       "      <td>United-States</td>\n",
       "      <td>0</td>\n",
       "      <td>&lt;=50K</td>\n",
       "    </tr>\n",
       "  </tbody>\n",
       "</table>\n",
       "</div>"
      ],
      "text/plain": [
       "    ID  Tahun Kelahiran    Kelas Pekerjaan  fnlwgt Pendidikan  \\\n",
       "0  478             1992             Swasta   37210    Sarjana   \n",
       "1  479             1981             Swasta  101950   Magister   \n",
       "2  480             2004                NaN  122244   SMA Grad   \n",
       "3  481             1984  Pemerintah daerah   24763    Diploma   \n",
       "4  482             2000             Swasta  113936    Sarjana   \n",
       "\n",
       "  Jenjang Pendidikan         Status                      Pekerjaan  \\\n",
       "0            Sarjana        Menikah              Eksekutif Manager   \n",
       "1           Magister  Belum-menikah              Eksekutif Manager   \n",
       "2           SMA Grad  Belum-menikah                            NaN   \n",
       "3             Kuliah          Cerai  Transportasi dan Pengangkutan   \n",
       "4            Sarjana  Belum-menikah          Spesialis Profesional   \n",
       "\n",
       "               Hubungan  Etnis     sex  pendapatan  pengeluaran  \\\n",
       "0                 Suami      1    Male           0            0   \n",
       "1  Tidak dalam Keluarga      1  Female           0            0   \n",
       "2  Tidak dalam Keluarga      1  Female           0            0   \n",
       "3         Belum Menikah      1    Male        6849            0   \n",
       "4            Punya Anak      1    Male           0            0   \n",
       "\n",
       "   hours per week    Asal Negara  jumlah_anak income  \n",
       "0              45  United-States            2   >50K  \n",
       "1              45  United-States            0  <=50K  \n",
       "2              28  United-States            0  <=50K  \n",
       "3              40  United-States            0  <=50K  \n",
       "4              40  United-States            0  <=50K  "
      ]
     },
     "execution_count": 2,
     "metadata": {},
     "output_type": "execute_result"
    }
   ],
   "source": [
    "train = pd.read_csv('train.csv')\n",
    "test = pd.read_csv('test.csv')\n",
    "train.head()"
   ]
  },
  {
   "cell_type": "markdown",
   "metadata": {},
   "source": [
    "<a id=\"2\"></a>\n",
    "# <p style=\"background-color:#682F2F;font-family:newtimeroman;color:#FFF9ED;font-size:150%;text-align:center;border-radius:10px 10px;\">Data Preprocessing</p>"
   ]
  },
  {
   "cell_type": "markdown",
   "metadata": {},
   "source": [
    "Di dalam tahap preprocesssing ini, kita akan melakukan beberapa tahapan, yaitu:\n",
    "- Feature Engineering\n",
    "- Feature Selection\n",
    "- Feature Extraction\n",
    "- Handling missing values\n",
    "- Handling duplicated values"
   ]
  },
  {
   "cell_type": "code",
   "execution_count": 3,
   "metadata": {},
   "outputs": [],
   "source": [
    "# function to check missing & duplicated values\n",
    "def check_data(df):\n",
    "    print('-' *50)\n",
    "    \n",
    "    missing_data = df.isnull().sum().sum()\n",
    "    \n",
    "    print(f'There are {missing_data} missing values in the dataset.')\n",
    "    print(f'There are {df.duplicated().sum().sum()} duplicated values in the dataset.')\n",
    "    print('-' *50)\n",
    "    \n",
    "    if missing_data > 0:\n",
    "        print('Missing values:')\n",
    "        print(df.isnull().sum().sort_values(ascending=False))\n",
    "        print('-' *50)"
   ]
  },
  {
   "cell_type": "markdown",
   "metadata": {},
   "source": [
    "Kita akan menghapus kolom yang tidak memberikan informasi apapun, seperti kolom `ID`"
   ]
  },
  {
   "cell_type": "code",
   "execution_count": 4,
   "metadata": {},
   "outputs": [
    {
     "data": {
      "text/html": [
       "<div>\n",
       "<style scoped>\n",
       "    .dataframe tbody tr th:only-of-type {\n",
       "        vertical-align: middle;\n",
       "    }\n",
       "\n",
       "    .dataframe tbody tr th {\n",
       "        vertical-align: top;\n",
       "    }\n",
       "\n",
       "    .dataframe thead th {\n",
       "        text-align: right;\n",
       "    }\n",
       "</style>\n",
       "<table border=\"1\" class=\"dataframe\">\n",
       "  <thead>\n",
       "    <tr style=\"text-align: right;\">\n",
       "      <th></th>\n",
       "      <th>Tahun Kelahiran</th>\n",
       "      <th>Kelas Pekerjaan</th>\n",
       "      <th>fnlwgt</th>\n",
       "      <th>Pendidikan</th>\n",
       "      <th>Jenjang Pendidikan</th>\n",
       "      <th>Status</th>\n",
       "      <th>Pekerjaan</th>\n",
       "      <th>Hubungan</th>\n",
       "      <th>Etnis</th>\n",
       "      <th>sex</th>\n",
       "      <th>pendapatan</th>\n",
       "      <th>pengeluaran</th>\n",
       "      <th>hours per week</th>\n",
       "      <th>Asal Negara</th>\n",
       "      <th>jumlah_anak</th>\n",
       "      <th>income</th>\n",
       "    </tr>\n",
       "  </thead>\n",
       "  <tbody>\n",
       "    <tr>\n",
       "      <th>0</th>\n",
       "      <td>1992</td>\n",
       "      <td>Swasta</td>\n",
       "      <td>37210</td>\n",
       "      <td>Sarjana</td>\n",
       "      <td>Sarjana</td>\n",
       "      <td>Menikah</td>\n",
       "      <td>Eksekutif Manager</td>\n",
       "      <td>Suami</td>\n",
       "      <td>1</td>\n",
       "      <td>Male</td>\n",
       "      <td>0</td>\n",
       "      <td>0</td>\n",
       "      <td>45</td>\n",
       "      <td>United-States</td>\n",
       "      <td>2</td>\n",
       "      <td>&gt;50K</td>\n",
       "    </tr>\n",
       "    <tr>\n",
       "      <th>1</th>\n",
       "      <td>1981</td>\n",
       "      <td>Swasta</td>\n",
       "      <td>101950</td>\n",
       "      <td>Magister</td>\n",
       "      <td>Magister</td>\n",
       "      <td>Belum-menikah</td>\n",
       "      <td>Eksekutif Manager</td>\n",
       "      <td>Tidak dalam Keluarga</td>\n",
       "      <td>1</td>\n",
       "      <td>Female</td>\n",
       "      <td>0</td>\n",
       "      <td>0</td>\n",
       "      <td>45</td>\n",
       "      <td>United-States</td>\n",
       "      <td>0</td>\n",
       "      <td>&lt;=50K</td>\n",
       "    </tr>\n",
       "  </tbody>\n",
       "</table>\n",
       "</div>"
      ],
      "text/plain": [
       "   Tahun Kelahiran Kelas Pekerjaan  fnlwgt Pendidikan Jenjang Pendidikan  \\\n",
       "0             1992          Swasta   37210    Sarjana            Sarjana   \n",
       "1             1981          Swasta  101950   Magister           Magister   \n",
       "\n",
       "          Status          Pekerjaan              Hubungan  Etnis     sex  \\\n",
       "0        Menikah  Eksekutif Manager                 Suami      1    Male   \n",
       "1  Belum-menikah  Eksekutif Manager  Tidak dalam Keluarga      1  Female   \n",
       "\n",
       "   pendapatan  pengeluaran  hours per week    Asal Negara  jumlah_anak income  \n",
       "0           0            0              45  United-States            2   >50K  \n",
       "1           0            0              45  United-States            0  <=50K  "
      ]
     },
     "execution_count": 4,
     "metadata": {},
     "output_type": "execute_result"
    }
   ],
   "source": [
    "# Dropping unnecessary column\n",
    "train.drop('ID', axis=1, inplace=True)\n",
    "train.head(2)"
   ]
  },
  {
   "cell_type": "code",
   "execution_count": 5,
   "metadata": {},
   "outputs": [
    {
     "name": "stdout",
     "output_type": "stream",
     "text": [
      "--------------------------------------------------\n",
      "There are 2956 missing values in the dataset.\n",
      "There are 35 duplicated values in the dataset.\n",
      "--------------------------------------------------\n",
      "Missing values:\n",
      "Pekerjaan             1481\n",
      "Kelas Pekerjaan       1475\n",
      "Tahun Kelahiran          0\n",
      "fnlwgt                   0\n",
      "Pendidikan               0\n",
      "Jenjang Pendidikan       0\n",
      "Status                   0\n",
      "Hubungan                 0\n",
      "Etnis                    0\n",
      "sex                      0\n",
      "pendapatan               0\n",
      "pengeluaran              0\n",
      "hours per week           0\n",
      "Asal Negara              0\n",
      "jumlah_anak              0\n",
      "income                   0\n",
      "dtype: int64\n",
      "--------------------------------------------------\n"
     ]
    }
   ],
   "source": [
    "check_data(train)"
   ]
  },
  {
   "cell_type": "code",
   "execution_count": 6,
   "metadata": {},
   "outputs": [
    {
     "name": "stdout",
     "output_type": "stream",
     "text": [
      "--------------------------------------------------\n",
      "There are 727 missing values in the dataset.\n",
      "There are 0 duplicated values in the dataset.\n",
      "--------------------------------------------------\n",
      "Missing values:\n",
      "Pekerjaan             364\n",
      "Kelas Pekerjaan       363\n",
      "ID                      0\n",
      "Tahun Kelahiran         0\n",
      "fnlwgt                  0\n",
      "Pendidikan              0\n",
      "Jenjang Pendidikan      0\n",
      "Status                  0\n",
      "Hubungan                0\n",
      "Etnis                   0\n",
      "sex                     0\n",
      "pendapatan              0\n",
      "pengeluaran             0\n",
      "hours per week          0\n",
      "Asal Negara             0\n",
      "jumlah_anak             0\n",
      "dtype: int64\n",
      "--------------------------------------------------\n"
     ]
    }
   ],
   "source": [
    "check_data(test)"
   ]
  },
  {
   "cell_type": "markdown",
   "metadata": {},
   "source": [
    "Setelah di observasi, kita melihar bahwa ada missing values pada kolom `Pekerjaan` & `Kelas Pekerjaan` dan juga data duplikat values yang ada di train set. Sebelum kita menghandalkan missing values, kita akan melakukan Feature Engineering terlebih dahulu."
   ]
  },
  {
   "cell_type": "markdown",
   "metadata": {},
   "source": [
    "<a id=\"2\"></a>\n",
    "# <p style=\"background-color:#682F2F;font-family:newtimeroman;color:#FFF9ED;font-size:150%;text-align:center;border-radius:10px 10px;\">Feature Engineering</p>"
   ]
  },
  {
   "cell_type": "code",
   "execution_count": 7,
   "metadata": {},
   "outputs": [
    {
     "data": {
      "image/png": "[encoded data removed]",
      "text/plain": [
       "<Figure size 1000x1000 with 2 Axes>"
      ]
     },
     "metadata": {},
     "output_type": "display_data"
    }
   ],
   "source": [
    "num_cols = [var for var in train.columns if train[var].dtypes != 'O']\n",
    "corr_mat = train[num_cols].corr()\n",
    "\n",
    "plt.figure(figsize=(10, 10))\n",
    "sns.heatmap(corr_mat, annot=True)\n",
    "plt.show()"
   ]
  },
  {
   "cell_type": "markdown",
   "metadata": {},
   "source": [
    "Not using linear based model"
   ]
  },
  {
   "cell_type": "markdown",
   "metadata": {},
   "source": [
    "<a id='2'></a>\n",
    "<div class=\"list-group\" id=\"list-tab\" role=\"tablist\">\n",
    "<p style=\"background-color:#682F2F;font-family:newtimeroman;color:#FFF9ED;font-size:150%;text-align:center;border-radius:10px 10px;\">Fixing Data Format</p>   \n"
   ]
  },
  {
   "cell_type": "markdown",
   "metadata": {},
   "source": [
    "Kita akan memperbaiki format yang ada pada data Categorical yang bertujuan untuk mengurangi kardinalitas value di dalam fitur data ini. Tujuannya agar model yang akan kita latih tidak terlalu banyak mempelajari kardinalitas yang ada pada fitur data ini dan juga dapat meng-improve performa model kita."
   ]
  },
  {
   "cell_type": "code",
   "execution_count": 9,
   "metadata": {},
   "outputs": [
    {
     "name": "stdout",
     "output_type": "stream",
     "text": [
      "Kelas Pekerjaan: ['Swasta' nan 'Pemerintah daerah' 'Pengusaha berbadan hukum'\n",
      " 'Pemerintah pusat' 'Pengusaha perorangan' 'Pemerintah negara'\n",
      " 'Tanpa bayaran' 'Tidak bekerja']\n",
      "--------------------------------------------------\n",
      "Pendidikan: ['Sarjana' 'Magister' 'SMA Grad' 'Diploma' 'Asosiasi akademik' 'kelas 10'\n",
      " 'kelas 9' 'kelas 7-8' 'Asosiasi vokasional' 'kelas 11' 'kelas 5-6'\n",
      " 'Proffesor' 'kelas 12' 'Doktor' 'kelas 1-4' 'TK']\n",
      "--------------------------------------------------\n",
      "Jenjang Pendidikan: ['Sarjana' 'Magister' 'SMA Grad' 'Kuliah' 'vokasi Grad_1' 'SMA_1' 'SMP_2'\n",
      " 'SMP_1' 'vokasi Grad_2' 'SMA_2' 'SD_2' 'Doktor' 'SMA_3' 'Proffesor'\n",
      " 'SD_1' 'TK']\n",
      "--------------------------------------------------\n",
      "Status: ['Menikah' 'Belum-menikah' 'Cerai' 'Duda/Janda' 'Rencana Cerai'\n",
      " 'Menikahi tentara' 'LDM']\n",
      "--------------------------------------------------\n",
      "Pekerjaan: ['Eksekutif Manager' nan 'Transportasi dan Pengangkutan'\n",
      " 'Spesialis Profesional' 'Dukungan Teknis' 'Pekerjaan Kerajinan' 'Sales'\n",
      " 'Layanan Lainnya' 'Pengelola Kebersihan' 'Inspeksi dan Operasi Mesin'\n",
      " 'Pertanian dan Perikanan' 'Administratif dan Kantor'\n",
      " 'Layanan Perlindungan' 'Pembantu Rumah Tangga' 'Angkatan Bersenjata']\n",
      "--------------------------------------------------\n",
      "Hubungan: ['Suami' 'Tidak dalam Keluarga' 'Belum Menikah' 'Punya Anak' 'Istri'\n",
      " 'Kerabat']\n",
      "--------------------------------------------------\n",
      "sex: ['Male' 'Female']\n",
      "--------------------------------------------------\n",
      "Asal Negara: ['United-States' '?' 'Poland' 'Germany' 'Trinadad&Tobago' 'Mexico'\n",
      " 'Columbia' 'Greece' 'Japan' 'France' 'Hungary' 'Taiwan'\n",
      " 'Dominican-Republic' 'El-Salvador' 'England' 'Cambodia' 'Portugal'\n",
      " 'Vietnam' 'Cuba' 'Philippines' 'Haiti' 'Scotland' 'Jamaica' 'Peru'\n",
      " 'Puerto-Rico' 'China' 'Ecuador' 'India' 'Canada' 'South' 'Guatemala'\n",
      " 'Thailand' 'Iran' 'Italy' 'Hong' 'Yugoslavia' 'Nicaragua' 'Ireland'\n",
      " 'Outlying-US(Guam-USVI-etc)' 'Honduras' 'Holand-Netherlands' 'Laos']\n",
      "--------------------------------------------------\n",
      "income: ['>50K' '<=50K']\n",
      "--------------------------------------------------\n"
     ]
    }
   ],
   "source": [
    "cat_cols = [var for var in train.columns if train[var].dtypes == 'O']\n",
    "\n",
    "for col in train[cat_cols]:\n",
    "    print(f'{col}: {train[col].unique()}')\n",
    "    print('-' *50)"
   ]
  },
  {
   "cell_type": "markdown",
   "metadata": {},
   "source": [
    "**Label grouping:*\n",
    " <br>\n",
    "Kita akan menggabungkan beberapa value yang ada pada kolom pendidikan menjadi 1 value saja. Seperti contohnya `kelas_11`, `kelas_12`, `kelas_10` merupakan pendidikan yang sama, yaitu pendidikan SMA. Kolom yang akan kita gabungkan menjadi 1 value untuk setiap fitur adalah:"
   ]
  },
  {
   "cell_type": "markdown",
   "metadata": {},
   "source": [
    "Fixing `Pendidikan` column: <br>\n",
    "- `Pendidikan`\n",
    "- `Status`\n",
    "- `Hubungan`\n",
    "- `Kelas Pekerjaan`\n",
    "- `Jenjang Pendidikan`"
   ]
  },
  {
   "cell_type": "code",
   "execution_count": 10,
   "metadata": {},
   "outputs": [
    {
     "data": {
      "text/plain": [
       "Pendidikan\n",
       "SMA Grad               8387\n",
       "Diploma                5820\n",
       "Sarjana                4261\n",
       "Magister               1407\n",
       "Asosiasi vokasional    1111\n",
       "kelas 11                933\n",
       "Asosiasi akademik       876\n",
       "kelas 10                729\n",
       "kelas 7-8               526\n",
       "Proffesor               462\n",
       "kelas 9                 409\n",
       "kelas 12                354\n",
       "Doktor                  330\n",
       "kelas 5-6               282\n",
       "kelas 1-4               140\n",
       "TK                       42\n",
       "Name: count, dtype: int64"
      ]
     },
     "execution_count": 10,
     "metadata": {},
     "output_type": "execute_result"
    }
   ],
   "source": [
    "train['Pendidikan'].value_counts()"
   ]
  },
  {
   "cell_type": "code",
   "execution_count": 11,
   "metadata": {},
   "outputs": [
    {
     "data": {
      "text/plain": [
       "Pendidikan\n",
       "SMA Grad               8387\n",
       "Diploma                5820\n",
       "Sarjana                4261\n",
       "SMA                    2016\n",
       "Magister               1407\n",
       "Asosiasi vokasional    1111\n",
       "SMP                     935\n",
       "Asosiasi akademik       876\n",
       "Proffesor               462\n",
       "SD                      422\n",
       "Doktor                  330\n",
       "TK                       42\n",
       "Name: count, dtype: int64"
      ]
     },
     "execution_count": 11,
     "metadata": {},
     "output_type": "execute_result"
    }
   ],
   "source": [
    "# replace kelas 10, kelas 11, kelas 12 with SMA\n",
    "train['Pendidikan'] = train['Pendidikan'].replace(['kelas 10', 'kelas 11', 'kelas 12'], 'SMA')\n",
    "\n",
    "# replace kelas 7-8, kelas 9 with SMP\n",
    "train['Pendidikan'] = train['Pendidikan'].replace(['kelas 7-8', 'kelas 9'], 'SMP')\n",
    "\n",
    "# replace kelas 1-4, kelas 5-6 with SD\n",
    "train['Pendidikan'] = train['Pendidikan'].replace(['kelas 1-4', 'kelas 5-6'], 'SD')\n",
    "\n",
    "# # replace\n",
    "# train['Pendidikan'] = train['Pendidikan'].replace(['Diploma', 'Asosiasi akademik', 'Asosiasi vokasional',\n",
    "#                                                    'Sarjana', 'Magister', 'Doktor', 'Proffesor', 'SMA Grad'], 'Pendidikan Tinggi')\n",
    "\n",
    "train['Pendidikan'].value_counts()"
   ]
  },
  {
   "cell_type": "markdown",
   "metadata": {},
   "source": [
    "Fixing `Status` column\n",
    "\n",
    "Kita replace beberapa value yang berkaian pada kolom status menjadi 1 vaue"
   ]
  },
  {
   "cell_type": "code",
   "execution_count": 12,
   "metadata": {},
   "outputs": [
    {
     "data": {
      "text/plain": [
       "Status\n",
       "Menikah             12012\n",
       "Belum-menikah        8505\n",
       "Cerai                3564\n",
       "Rencana Cerai         826\n",
       "Duda/Janda            812\n",
       "LDM                   332\n",
       "Menikahi tentara       18\n",
       "Name: count, dtype: int64"
      ]
     },
     "execution_count": 12,
     "metadata": {},
     "output_type": "execute_result"
    }
   ],
   "source": [
    "train['Status'].value_counts()"
   ]
  },
  {
   "cell_type": "markdown",
   "metadata": {},
   "source": [
    "Arti LDM dalam kolom status adalah Long Distance Marriage, yang berarti dalam status `Menikah`, begitu juga dengan `Menikahi tentara`."
   ]
  },
  {
   "cell_type": "code",
   "execution_count": 13,
   "metadata": {},
   "outputs": [
    {
     "data": {
      "text/plain": [
       "Status\n",
       "Menikah          12362\n",
       "Belum-menikah     8505\n",
       "Cerai             3564\n",
       "Rencana Cerai      826\n",
       "Duda/Janda         812\n",
       "Name: count, dtype: int64"
      ]
     },
     "execution_count": 13,
     "metadata": {},
     "output_type": "execute_result"
    }
   ],
   "source": [
    "train['Status'] = train['Status'].replace(['Menikahi tentara', 'LDM'], 'Menikah')\n",
    "train['Status'].value_counts()"
   ]
  },
  {
   "cell_type": "markdown",
   "metadata": {},
   "source": [
    "Fixing `Hubungan` column (**PENDING)"
   ]
  },
  {
   "cell_type": "code",
   "execution_count": 14,
   "metadata": {},
   "outputs": [
    {
     "data": {
      "text/plain": [
       "Hubungan\n",
       "Suami                   10598\n",
       "Tidak dalam Keluarga     6675\n",
       "Punya Anak               4036\n",
       "Belum Menikah            2736\n",
       "Istri                    1233\n",
       "Kerabat                   791\n",
       "Name: count, dtype: int64"
      ]
     },
     "execution_count": 14,
     "metadata": {},
     "output_type": "execute_result"
    }
   ],
   "source": [
    "train['Hubungan'].value_counts()"
   ]
  },
  {
   "cell_type": "markdown",
   "metadata": {},
   "source": [
    "Fixing `Kelas Pekerjaan` column\n",
    "\n",
    "Kita replace beberapa value yang berkaitan pada kolom Kelas Pekerjaan menjadi 1 value yang berkaitan 1 sama lain"
   ]
  },
  {
   "cell_type": "code",
   "execution_count": 15,
   "metadata": {},
   "outputs": [
    {
     "data": {
      "text/plain": [
       "Kelas Pekerjaan\n",
       "Swasta                      18114\n",
       "Pengusaha perorangan         2043\n",
       "Pemerintah daerah            1705\n",
       "Pemerintah negara            1053\n",
       "Pengusaha berbadan hukum      894\n",
       "Pemerintah pusat              766\n",
       "Tanpa bayaran                  13\n",
       "Tidak bekerja                   6\n",
       "Name: count, dtype: int64"
      ]
     },
     "execution_count": 15,
     "metadata": {},
     "output_type": "execute_result"
    }
   ],
   "source": [
    "train['Kelas Pekerjaan'].value_counts()"
   ]
  },
  {
   "cell_type": "code",
   "execution_count": 16,
   "metadata": {},
   "outputs": [
    {
     "data": {
      "text/plain": [
       "Kelas Pekerjaan\n",
       "Swasta                      18114\n",
       "Sektor Pemerintah            3524\n",
       "Pengusaha perorangan         2043\n",
       "Pengusaha berbadan hukum      894\n",
       "Tanpa bayaran                  13\n",
       "Tidak bekerja                   6\n",
       "Name: count, dtype: int64"
      ]
     },
     "execution_count": 16,
     "metadata": {},
     "output_type": "execute_result"
    }
   ],
   "source": [
    "# replacing with sektor pemerintah affiliated\n",
    "train['Kelas Pekerjaan'] = train['Kelas Pekerjaan'].replace(['Pemerintah pusat', 'Pemerintah daerah',\n",
    "                                                             'Pemerintah negara'], 'Sektor Pemerintah')\n",
    "\n",
    "# train['Kelas Pekerjaan'] = train['Kelas Pekerjaan'].replace(['Tanpa bayaran', 'Tidak bekerja'], '')\n",
    "\n",
    "train['Kelas Pekerjaan'].value_counts()"
   ]
  },
  {
   "cell_type": "code",
   "execution_count": 17,
   "metadata": {},
   "outputs": [
    {
     "data": {
      "text/plain": [
       "no_income\n",
       "0    26050\n",
       "1       19\n",
       "Name: count, dtype: int64"
      ]
     },
     "execution_count": 17,
     "metadata": {},
     "output_type": "execute_result"
    }
   ],
   "source": [
    "# no_income feature column\n",
    "train['no_income'] = train['Kelas Pekerjaan'].apply(lambda x: 1 if x == 'Tanpa bayaran' or x == 'Tidak bekerja' else 0)\n",
    "train['no_income'].value_counts()"
   ]
  },
  {
   "cell_type": "markdown",
   "metadata": {},
   "source": [
    "Fixing `Jenjang Pendidikan` column\n",
    "\n",
    "Kita replace beberapa value yang berkaitan menjadi 1 value yang berkaitan"
   ]
  },
  {
   "cell_type": "code",
   "execution_count": 18,
   "metadata": {},
   "outputs": [
    {
     "data": {
      "text/plain": [
       "Jenjang Pendidikan\n",
       "SMA Grad         8387\n",
       "Kuliah           5820\n",
       "Sarjana          4261\n",
       "Magister         1407\n",
       "vokasi Grad_2    1111\n",
       "SMA_2             933\n",
       "vokasi Grad_1     876\n",
       "SMA_1             729\n",
       "SMP_1             526\n",
       "Doktor            462\n",
       "SMP_2             409\n",
       "SMA_3             354\n",
       "Proffesor         330\n",
       "SD_2              282\n",
       "SD_1              140\n",
       "TK                 42\n",
       "Name: count, dtype: int64"
      ]
     },
     "execution_count": 18,
     "metadata": {},
     "output_type": "execute_result"
    }
   ],
   "source": [
    "train['Jenjang Pendidikan'].value_counts()"
   ]
  },
  {
   "cell_type": "code",
   "execution_count": 19,
   "metadata": {},
   "outputs": [
    {
     "data": {
      "text/plain": [
       "Jenjang Pendidikan\n",
       "SMA Grad       8387\n",
       "Kuliah         5820\n",
       "Sarjana        4261\n",
       "SMA            2016\n",
       "Vokasi Grad    1987\n",
       "Magister       1407\n",
       "SMP             935\n",
       "Doktor          462\n",
       "SD              422\n",
       "Proffesor       330\n",
       "TK               42\n",
       "Name: count, dtype: int64"
      ]
     },
     "execution_count": 19,
     "metadata": {},
     "output_type": "execute_result"
    }
   ],
   "source": [
    "# replace SMA_1, SMA_2, SMA_3 with SMA\n",
    "train['Jenjang Pendidikan'] = train['Jenjang Pendidikan'].replace(['SMA_1', 'SMA_2', 'SMA_3'], 'SMA')\n",
    "\n",
    "# replace SMP_1, SMP_2, SMP_3 with SMP\n",
    "train['Jenjang Pendidikan'] = train['Jenjang Pendidikan'].replace(['SMP_1', 'SMP_2', 'SMP_3'], 'SMP')\n",
    "\n",
    "# replace SD_1, SD_2, with SD\n",
    "train['Jenjang Pendidikan'] = train['Jenjang Pendidikan'].replace(['SD_1', 'SD_2'], 'SD')\n",
    "\n",
    "# replace vokasi Grad_1, vokasi Grad_2 with vokasi Grad\n",
    "train['Jenjang Pendidikan'] = train['Jenjang Pendidikan'].replace(['vokasi Grad_1', 'vokasi Grad_2'], 'Vokasi Grad')\n",
    "\n",
    "train['Jenjang Pendidikan'].value_counts()"
   ]
  },
  {
   "cell_type": "markdown",
   "metadata": {},
   "source": [
    "Fixing `Asal Negara` column\n",
    "\n",
    "Kita replace beberapa value yang berkaitan menjadi 1 value yang berkaitan"
   ]
  },
  {
   "cell_type": "code",
   "execution_count": 20,
   "metadata": {},
   "outputs": [
    {
     "data": {
      "text/plain": [
       "Asal Negara\n",
       "United-States                 23355\n",
       "Mexico                          532\n",
       "?                               458\n",
       "Philippines                     157\n",
       "Germany                         109\n",
       "Canada                           93\n",
       "Puerto-Rico                      92\n",
       "El-Salvador                      85\n",
       "Cuba                             83\n",
       "India                            82\n",
       "England                          69\n",
       "South                            68\n",
       "China                            61\n",
       "Jamaica                          60\n",
       "Italy                            60\n",
       "Dominican-Republic               58\n",
       "Vietnam                          52\n",
       "Poland                           48\n",
       "Columbia                         48\n",
       "Japan                            46\n",
       "Taiwan                           44\n",
       "Guatemala                        43\n",
       "Haiti                            36\n",
       "Iran                             31\n",
       "Portugal                         30\n",
       "France                           27\n",
       "Greece                           25\n",
       "Ecuador                          25\n",
       "Peru                             24\n",
       "Nicaragua                        23\n",
       "Ireland                          22\n",
       "Hong                             17\n",
       "Laos                             16\n",
       "Cambodia                         16\n",
       "Trinadad&Tobago                  15\n",
       "Thailand                         11\n",
       "Hungary                          11\n",
       "Outlying-US(Guam-USVI-etc)       10\n",
       "Honduras                         10\n",
       "Yugoslavia                        8\n",
       "Scotland                          8\n",
       "Holand-Netherlands                1\n",
       "Name: count, dtype: int64"
      ]
     },
     "execution_count": 20,
     "metadata": {},
     "output_type": "execute_result"
    }
   ],
   "source": [
    "train['Asal Negara'].value_counts()"
   ]
  },
  {
   "cell_type": "code",
   "execution_count": 21,
   "metadata": {},
   "outputs": [
    {
     "data": {
      "text/plain": [
       "Asal Negara\n",
       "United-States                 23355\n",
       "Mexico                          532\n",
       "Philippines                     157\n",
       "Germany                         109\n",
       "Canada                           93\n",
       "Puerto-Rico                      92\n",
       "El-Salvador                      85\n",
       "Cuba                             83\n",
       "India                            82\n",
       "England                          69\n",
       "South                            68\n",
       "China                            61\n",
       "Jamaica                          60\n",
       "Italy                            60\n",
       "Dominican-Republic               58\n",
       "Vietnam                          52\n",
       "Columbia                         48\n",
       "Poland                           48\n",
       "Japan                            46\n",
       "Taiwan                           44\n",
       "Guatemala                        43\n",
       "Haiti                            36\n",
       "Iran                             31\n",
       "Portugal                         30\n",
       "France                           27\n",
       "Ecuador                          25\n",
       "Greece                           25\n",
       "Peru                             24\n",
       "Nicaragua                        23\n",
       "Ireland                          22\n",
       "Hong Kong                        17\n",
       "Laos                             16\n",
       "Cambodia                         16\n",
       "Trinadad&Tobago                  15\n",
       "Thailand                         11\n",
       "Hungary                          11\n",
       "Outlying-US(Guam-USVI-etc)       10\n",
       "Honduras                         10\n",
       "Yugoslavia                        8\n",
       "Scotland                          8\n",
       "Holand-Netherlands                1\n",
       "Name: count, dtype: int64"
      ]
     },
     "execution_count": 21,
     "metadata": {},
     "output_type": "execute_result"
    }
   ],
   "source": [
    "# replace ? with missing value\n",
    "train['Asal Negara'] = train['Asal Negara'].replace(['?'], np.nan)\n",
    "\n",
    "# replace \"Hong\" with \"Hong Kong\"\n",
    "train['Asal Negara'] = train['Asal Negara'].replace(['Hong'], 'Hong Kong')\n",
    "\n",
    "train['Asal Negara'].value_counts()"
   ]
  },
  {
   "cell_type": "code",
   "execution_count": 22,
   "metadata": {},
   "outputs": [
    {
     "name": "stdout",
     "output_type": "stream",
     "text": [
      "Kelas Pekerjaan: ['Swasta' nan 'Sektor Pemerintah' 'Pengusaha berbadan hukum'\n",
      " 'Pengusaha perorangan' 'Tanpa bayaran' 'Tidak bekerja']\n",
      "--------------------------------------------------\n",
      "Pendidikan: ['Sarjana' 'Magister' 'SMA Grad' 'Diploma' 'Asosiasi akademik' 'SMA' 'SMP'\n",
      " 'Asosiasi vokasional' 'SD' 'Proffesor' 'Doktor' 'TK']\n",
      "--------------------------------------------------\n",
      "Jenjang Pendidikan: ['Sarjana' 'Magister' 'SMA Grad' 'Kuliah' 'Vokasi Grad' 'SMA' 'SMP' 'SD'\n",
      " 'Doktor' 'Proffesor' 'TK']\n",
      "--------------------------------------------------\n",
      "Status: ['Menikah' 'Belum-menikah' 'Cerai' 'Duda/Janda' 'Rencana Cerai']\n",
      "--------------------------------------------------\n",
      "Pekerjaan: ['Eksekutif Manager' nan 'Transportasi dan Pengangkutan'\n",
      " 'Spesialis Profesional' 'Dukungan Teknis' 'Pekerjaan Kerajinan' 'Sales'\n",
      " 'Layanan Lainnya' 'Pengelola Kebersihan' 'Inspeksi dan Operasi Mesin'\n",
      " 'Pertanian dan Perikanan' 'Administratif dan Kantor'\n",
      " 'Layanan Perlindungan' 'Pembantu Rumah Tangga' 'Angkatan Bersenjata']\n",
      "--------------------------------------------------\n",
      "Hubungan: ['Suami' 'Tidak dalam Keluarga' 'Belum Menikah' 'Punya Anak' 'Istri'\n",
      " 'Kerabat']\n",
      "--------------------------------------------------\n",
      "sex: ['Male' 'Female']\n",
      "--------------------------------------------------\n",
      "Asal Negara: ['United-States' nan 'Poland' 'Germany' 'Trinadad&Tobago' 'Mexico'\n",
      " 'Columbia' 'Greece' 'Japan' 'France' 'Hungary' 'Taiwan'\n",
      " 'Dominican-Republic' 'El-Salvador' 'England' 'Cambodia' 'Portugal'\n",
      " 'Vietnam' 'Cuba' 'Philippines' 'Haiti' 'Scotland' 'Jamaica' 'Peru'\n",
      " 'Puerto-Rico' 'China' 'Ecuador' 'India' 'Canada' 'South' 'Guatemala'\n",
      " 'Thailand' 'Iran' 'Italy' 'Hong Kong' 'Yugoslavia' 'Nicaragua' 'Ireland'\n",
      " 'Outlying-US(Guam-USVI-etc)' 'Honduras' 'Holand-Netherlands' 'Laos']\n",
      "--------------------------------------------------\n",
      "income: ['>50K' '<=50K']\n",
      "--------------------------------------------------\n"
     ]
    }
   ],
   "source": [
    "cat_cols = [var for var in train.columns if train[var].dtypes == 'O']\n",
    "\n",
    "for col in train[cat_cols]:\n",
    "    print(f'{col}: {train[col].unique()}')\n",
    "    print('-' *50)"
   ]
  },
  {
   "cell_type": "markdown",
   "metadata": {},
   "source": [
    "### Encoding categorical columns"
   ]
  },
  {
   "cell_type": "code",
   "execution_count": 23,
   "metadata": {},
   "outputs": [
    {
     "data": {
      "text/html": [
       "<div>\n",
       "<style scoped>\n",
       "    .dataframe tbody tr th:only-of-type {\n",
       "        vertical-align: middle;\n",
       "    }\n",
       "\n",
       "    .dataframe tbody tr th {\n",
       "        vertical-align: top;\n",
       "    }\n",
       "\n",
       "    .dataframe thead th {\n",
       "        text-align: right;\n",
       "    }\n",
       "</style>\n",
       "<table border=\"1\" class=\"dataframe\">\n",
       "  <thead>\n",
       "    <tr style=\"text-align: right;\">\n",
       "      <th></th>\n",
       "      <th>Kelas Pekerjaan</th>\n",
       "      <th>Pendidikan</th>\n",
       "      <th>Jenjang Pendidikan</th>\n",
       "      <th>Status</th>\n",
       "      <th>Pekerjaan</th>\n",
       "      <th>Hubungan</th>\n",
       "      <th>sex</th>\n",
       "      <th>Asal Negara</th>\n",
       "      <th>income</th>\n",
       "    </tr>\n",
       "  </thead>\n",
       "  <tbody>\n",
       "    <tr>\n",
       "      <th>0</th>\n",
       "      <td>Swasta</td>\n",
       "      <td>Sarjana</td>\n",
       "      <td>Sarjana</td>\n",
       "      <td>Menikah</td>\n",
       "      <td>Eksekutif Manager</td>\n",
       "      <td>Suami</td>\n",
       "      <td>Male</td>\n",
       "      <td>United-States</td>\n",
       "      <td>&gt;50K</td>\n",
       "    </tr>\n",
       "    <tr>\n",
       "      <th>1</th>\n",
       "      <td>Swasta</td>\n",
       "      <td>Magister</td>\n",
       "      <td>Magister</td>\n",
       "      <td>Belum-menikah</td>\n",
       "      <td>Eksekutif Manager</td>\n",
       "      <td>Tidak dalam Keluarga</td>\n",
       "      <td>Female</td>\n",
       "      <td>United-States</td>\n",
       "      <td>&lt;=50K</td>\n",
       "    </tr>\n",
       "    <tr>\n",
       "      <th>2</th>\n",
       "      <td>NaN</td>\n",
       "      <td>SMA Grad</td>\n",
       "      <td>SMA Grad</td>\n",
       "      <td>Belum-menikah</td>\n",
       "      <td>NaN</td>\n",
       "      <td>Tidak dalam Keluarga</td>\n",
       "      <td>Female</td>\n",
       "      <td>United-States</td>\n",
       "      <td>&lt;=50K</td>\n",
       "    </tr>\n",
       "    <tr>\n",
       "      <th>3</th>\n",
       "      <td>Sektor Pemerintah</td>\n",
       "      <td>Diploma</td>\n",
       "      <td>Kuliah</td>\n",
       "      <td>Cerai</td>\n",
       "      <td>Transportasi dan Pengangkutan</td>\n",
       "      <td>Belum Menikah</td>\n",
       "      <td>Male</td>\n",
       "      <td>United-States</td>\n",
       "      <td>&lt;=50K</td>\n",
       "    </tr>\n",
       "    <tr>\n",
       "      <th>4</th>\n",
       "      <td>Swasta</td>\n",
       "      <td>Sarjana</td>\n",
       "      <td>Sarjana</td>\n",
       "      <td>Belum-menikah</td>\n",
       "      <td>Spesialis Profesional</td>\n",
       "      <td>Punya Anak</td>\n",
       "      <td>Male</td>\n",
       "      <td>United-States</td>\n",
       "      <td>&lt;=50K</td>\n",
       "    </tr>\n",
       "  </tbody>\n",
       "</table>\n",
       "</div>"
      ],
      "text/plain": [
       "     Kelas Pekerjaan Pendidikan Jenjang Pendidikan         Status  \\\n",
       "0             Swasta    Sarjana            Sarjana        Menikah   \n",
       "1             Swasta   Magister           Magister  Belum-menikah   \n",
       "2                NaN   SMA Grad           SMA Grad  Belum-menikah   \n",
       "3  Sektor Pemerintah    Diploma             Kuliah          Cerai   \n",
       "4             Swasta    Sarjana            Sarjana  Belum-menikah   \n",
       "\n",
       "                       Pekerjaan              Hubungan     sex    Asal Negara  \\\n",
       "0              Eksekutif Manager                 Suami    Male  United-States   \n",
       "1              Eksekutif Manager  Tidak dalam Keluarga  Female  United-States   \n",
       "2                            NaN  Tidak dalam Keluarga  Female  United-States   \n",
       "3  Transportasi dan Pengangkutan         Belum Menikah    Male  United-States   \n",
       "4          Spesialis Profesional            Punya Anak    Male  United-States   \n",
       "\n",
       "  income  \n",
       "0   >50K  \n",
       "1  <=50K  \n",
       "2  <=50K  \n",
       "3  <=50K  \n",
       "4  <=50K  "
      ]
     },
     "execution_count": 23,
     "metadata": {},
     "output_type": "execute_result"
    }
   ],
   "source": [
    "train[cat_cols].head()"
   ]
  },
  {
   "cell_type": "markdown",
   "metadata": {},
   "source": [
    "<a id=\"2\"></a>\n",
    "# <p style=\"background-color:#682F2F;font-family:newtimeroman;color:#FFF9ED;font-size:150%;text-align:center;border-radius:10px 10px;\">Feature Selection</p>"
   ]
  },
  {
   "cell_type": "code",
   "execution_count": 24,
   "metadata": {},
   "outputs": [
    {
     "name": "stdout",
     "output_type": "stream",
     "text": [
      "--------------------------------------------------\n",
      "Missing data: 3414\n",
      "Duplicated data: 36\n",
      "--------------------------------------------------\n",
      "Missing values:\n",
      "Pekerjaan             1481\n",
      "Kelas Pekerjaan       1475\n",
      "Asal Negara            458\n",
      "Tahun Kelahiran          0\n",
      "pendapatan               0\n",
      "income                   0\n",
      "jumlah_anak              0\n",
      "hours per week           0\n",
      "pengeluaran              0\n",
      "Etnis                    0\n",
      "sex                      0\n",
      "Hubungan                 0\n",
      "Status                   0\n",
      "Jenjang Pendidikan       0\n",
      "Pendidikan               0\n",
      "fnlwgt                   0\n",
      "no_income                0\n",
      "dtype: int64\n",
      "--------------------------------------------------\n"
     ]
    }
   ],
   "source": [
    "# function to check missing & duplicated values\n",
    "def check_data(df):\n",
    "    print('-' *50)\n",
    "\n",
    "    missing_data = df.isnull().sum().sum()\n",
    "    print('Missing data:', missing_data)\n",
    "\n",
    "    duplicated_data = df.duplicated().sum().sum()\n",
    "    print('Duplicated data:', duplicated_data)\n",
    "\n",
    "    print('-' *50)\n",
    "\n",
    "    if missing_data > 0:\n",
    "        print('Missing values:')\n",
    "        print(df.isnull().sum().sort_values(ascending=False))\n",
    "\n",
    "    print('-' *50)\n",
    "\n",
    "check_data(train)"
   ]
  },
  {
   "cell_type": "code",
   "execution_count": 25,
   "metadata": {},
   "outputs": [],
   "source": [
    "# train 2 ini untuk encode manual\n",
    "train_2 = train.copy() "
   ]
  },
  {
   "cell_type": "markdown",
   "metadata": {},
   "source": [
    "Fill Null Values and Drop Duplicates"
   ]
  },
  {
   "cell_type": "code",
   "execution_count": 26,
   "metadata": {},
   "outputs": [
    {
     "name": "stderr",
     "output_type": "stream",
     "text": [
      "C:\\Users\\booma\\AppData\\Local\\Temp\\ipykernel_180\\905675710.py:4: FutureWarning: Series.fillna with 'method' is deprecated and will raise in a future version. Use obj.ffill() or obj.bfill() instead.\n",
      "  train_2[col] = train_2[col].fillna(method='ffill')\n"
     ]
    }
   ],
   "source": [
    "missing_cols = ['Kelas Pekerjaan', 'Pekerjaan', 'Asal Negara']\n",
    "\n",
    "for col in missing_cols:\n",
    "    train_2[col] = train_2[col].fillna(method='ffill')\n",
    "\n",
    "# drop duplucated\n",
    "train_2.drop_duplicates(inplace=True)"
   ]
  },
  {
   "cell_type": "code",
   "execution_count": 27,
   "metadata": {},
   "outputs": [
    {
     "name": "stdout",
     "output_type": "stream",
     "text": [
      "--------------------------------------------------\n",
      "Missing data: 0\n",
      "Duplicated data: 0\n",
      "--------------------------------------------------\n",
      "--------------------------------------------------\n"
     ]
    }
   ],
   "source": [
    "check_data(train_2)"
   ]
  },
  {
   "cell_type": "markdown",
   "metadata": {},
   "source": [
    "# Feature Selection Train 2"
   ]
  },
  {
   "cell_type": "markdown",
   "metadata": {},
   "source": [
    "#### Using Chi2\n",
    "\n",
    "Chi-Square adalah uji statistik digunakan untuk menguji hubungan antara 2 variable kategorikal dalam sebuah data.\n",
    "Intinya, Chi-Square mengecek apakah 2 variabel data benar benar memiliki hubungan atau tidak.a"
   ]
  },
  {
   "cell_type": "code",
   "execution_count": 28,
   "metadata": {},
   "outputs": [
    {
     "data": {
      "text/html": [
       "<div>\n",
       "<style scoped>\n",
       "    .dataframe tbody tr th:only-of-type {\n",
       "        vertical-align: middle;\n",
       "    }\n",
       "\n",
       "    .dataframe tbody tr th {\n",
       "        vertical-align: top;\n",
       "    }\n",
       "\n",
       "    .dataframe thead th {\n",
       "        text-align: right;\n",
       "    }\n",
       "</style>\n",
       "<table border=\"1\" class=\"dataframe\">\n",
       "  <thead>\n",
       "    <tr style=\"text-align: right;\">\n",
       "      <th></th>\n",
       "      <th>Tahun Kelahiran</th>\n",
       "      <th>Kelas Pekerjaan</th>\n",
       "      <th>fnlwgt</th>\n",
       "      <th>Pendidikan</th>\n",
       "      <th>Jenjang Pendidikan</th>\n",
       "      <th>Status</th>\n",
       "      <th>Pekerjaan</th>\n",
       "      <th>Hubungan</th>\n",
       "      <th>Etnis</th>\n",
       "      <th>sex</th>\n",
       "      <th>pendapatan</th>\n",
       "      <th>pengeluaran</th>\n",
       "      <th>hours per week</th>\n",
       "      <th>Asal Negara</th>\n",
       "      <th>jumlah_anak</th>\n",
       "      <th>income</th>\n",
       "      <th>no_income</th>\n",
       "    </tr>\n",
       "  </thead>\n",
       "  <tbody>\n",
       "    <tr>\n",
       "      <th>0</th>\n",
       "      <td>1992</td>\n",
       "      <td>Swasta</td>\n",
       "      <td>37210</td>\n",
       "      <td>Sarjana</td>\n",
       "      <td>Sarjana</td>\n",
       "      <td>Menikah</td>\n",
       "      <td>Eksekutif Manager</td>\n",
       "      <td>Suami</td>\n",
       "      <td>1</td>\n",
       "      <td>Male</td>\n",
       "      <td>0</td>\n",
       "      <td>0</td>\n",
       "      <td>45</td>\n",
       "      <td>United-States</td>\n",
       "      <td>2</td>\n",
       "      <td>&gt;50K</td>\n",
       "      <td>0</td>\n",
       "    </tr>\n",
       "    <tr>\n",
       "      <th>1</th>\n",
       "      <td>1981</td>\n",
       "      <td>Swasta</td>\n",
       "      <td>101950</td>\n",
       "      <td>Magister</td>\n",
       "      <td>Magister</td>\n",
       "      <td>Belum-menikah</td>\n",
       "      <td>Eksekutif Manager</td>\n",
       "      <td>Tidak dalam Keluarga</td>\n",
       "      <td>1</td>\n",
       "      <td>Female</td>\n",
       "      <td>0</td>\n",
       "      <td>0</td>\n",
       "      <td>45</td>\n",
       "      <td>United-States</td>\n",
       "      <td>0</td>\n",
       "      <td>&lt;=50K</td>\n",
       "      <td>0</td>\n",
       "    </tr>\n",
       "    <tr>\n",
       "      <th>2</th>\n",
       "      <td>2004</td>\n",
       "      <td>Swasta</td>\n",
       "      <td>122244</td>\n",
       "      <td>SMA Grad</td>\n",
       "      <td>SMA Grad</td>\n",
       "      <td>Belum-menikah</td>\n",
       "      <td>Eksekutif Manager</td>\n",
       "      <td>Tidak dalam Keluarga</td>\n",
       "      <td>1</td>\n",
       "      <td>Female</td>\n",
       "      <td>0</td>\n",
       "      <td>0</td>\n",
       "      <td>28</td>\n",
       "      <td>United-States</td>\n",
       "      <td>0</td>\n",
       "      <td>&lt;=50K</td>\n",
       "      <td>0</td>\n",
       "    </tr>\n",
       "    <tr>\n",
       "      <th>3</th>\n",
       "      <td>1984</td>\n",
       "      <td>Sektor Pemerintah</td>\n",
       "      <td>24763</td>\n",
       "      <td>Diploma</td>\n",
       "      <td>Kuliah</td>\n",
       "      <td>Cerai</td>\n",
       "      <td>Transportasi dan Pengangkutan</td>\n",
       "      <td>Belum Menikah</td>\n",
       "      <td>1</td>\n",
       "      <td>Male</td>\n",
       "      <td>6849</td>\n",
       "      <td>0</td>\n",
       "      <td>40</td>\n",
       "      <td>United-States</td>\n",
       "      <td>0</td>\n",
       "      <td>&lt;=50K</td>\n",
       "      <td>0</td>\n",
       "    </tr>\n",
       "    <tr>\n",
       "      <th>4</th>\n",
       "      <td>2000</td>\n",
       "      <td>Swasta</td>\n",
       "      <td>113936</td>\n",
       "      <td>Sarjana</td>\n",
       "      <td>Sarjana</td>\n",
       "      <td>Belum-menikah</td>\n",
       "      <td>Spesialis Profesional</td>\n",
       "      <td>Punya Anak</td>\n",
       "      <td>1</td>\n",
       "      <td>Male</td>\n",
       "      <td>0</td>\n",
       "      <td>0</td>\n",
       "      <td>40</td>\n",
       "      <td>United-States</td>\n",
       "      <td>0</td>\n",
       "      <td>&lt;=50K</td>\n",
       "      <td>0</td>\n",
       "    </tr>\n",
       "  </tbody>\n",
       "</table>\n",
       "</div>"
      ],
      "text/plain": [
       "   Tahun Kelahiran    Kelas Pekerjaan  fnlwgt Pendidikan Jenjang Pendidikan  \\\n",
       "0             1992             Swasta   37210    Sarjana            Sarjana   \n",
       "1             1981             Swasta  101950   Magister           Magister   \n",
       "2             2004             Swasta  122244   SMA Grad           SMA Grad   \n",
       "3             1984  Sektor Pemerintah   24763    Diploma             Kuliah   \n",
       "4             2000             Swasta  113936    Sarjana            Sarjana   \n",
       "\n",
       "          Status                      Pekerjaan              Hubungan  Etnis  \\\n",
       "0        Menikah              Eksekutif Manager                 Suami      1   \n",
       "1  Belum-menikah              Eksekutif Manager  Tidak dalam Keluarga      1   \n",
       "2  Belum-menikah              Eksekutif Manager  Tidak dalam Keluarga      1   \n",
       "3          Cerai  Transportasi dan Pengangkutan         Belum Menikah      1   \n",
       "4  Belum-menikah          Spesialis Profesional            Punya Anak      1   \n",
       "\n",
       "      sex  pendapatan  pengeluaran  hours per week    Asal Negara  \\\n",
       "0    Male           0            0              45  United-States   \n",
       "1  Female           0            0              45  United-States   \n",
       "2  Female           0            0              28  United-States   \n",
       "3    Male        6849            0              40  United-States   \n",
       "4    Male           0            0              40  United-States   \n",
       "\n",
       "   jumlah_anak income  no_income  \n",
       "0            2   >50K          0  \n",
       "1            0  <=50K          0  \n",
       "2            0  <=50K          0  \n",
       "3            0  <=50K          0  \n",
       "4            0  <=50K          0  "
      ]
     },
     "execution_count": 28,
     "metadata": {},
     "output_type": "execute_result"
    }
   ],
   "source": [
    "train_2.head()"
   ]
  },
  {
   "cell_type": "code",
   "execution_count": 29,
   "metadata": {},
   "outputs": [
    {
     "data": {
      "image/png": "[encoded data removed]",
      "text/plain": [
       "<Figure size 640x480 with 1 Axes>"
      ]
     },
     "metadata": {},
     "output_type": "display_data"
    }
   ],
   "source": [
    "from scipy.stats import chi2_contingency\n",
    "\n",
    "le = LabelEncoder()\n",
    "train_chi = train_2.copy()\n",
    "# Karena Chi-Square menghitung feature object maka kita select feature dengan dtypes object\n",
    "train_chi = train_chi.select_dtypes(include='object')\n",
    "\n",
    "le = LabelEncoder()\n",
    "# Chi2 membandingkan variabel dengan target, maka kita perlu encode targetnya\n",
    "train_chi['income'] = le.fit_transform(train_chi['income'])\n",
    "\n",
    "\n",
    "X = train_chi.drop(['income'], axis=1)\n",
    "y = train_chi['income']\n",
    "X_train, X_test, y_train, y_test = train_test_split(X,y, test_size=0.2, random_state=42)\n",
    "\n",
    "chi_ls = []\n",
    "\n",
    "for feature in X_train.columns:\n",
    "    # Setelah select columns , membuat tabel kontingensi antara 2 variabel, yaitu feature X_train dan target (income)\n",
    "    c = pd.crosstab(y_train, X_train[feature])\n",
    "\n",
    "    # Melakukan uji Chi-Square dengan mmebandingkan nilai frekuensi\n",
    "\n",
    "    p_value = chi2_contingency(c)[1]\n",
    "    chi_ls.append(p_value)\n",
    "\n",
    "pd.Series(chi_ls, index=X_train.columns).sort_values(ascending=True).plot.bar(rot=45)\n",
    "plt.ylabel('p value')\n",
    "plt.title('Feature importance based on chi-square test')\n",
    "plt.show()"
   ]
  },
  {
   "cell_type": "code",
   "execution_count": 30,
   "metadata": {},
   "outputs": [
    {
     "data": {
      "text/plain": [
       "Index(['Pendidikan', 'Jenjang Pendidikan', 'Status', 'Pekerjaan', 'Hubungan',\n",
       "       'sex', 'Kelas Pekerjaan'],\n",
       "      dtype='object')"
      ]
     },
     "execution_count": 30,
     "metadata": {},
     "output_type": "execute_result"
    }
   ],
   "source": [
    "# Hasil dari Chi-Square, kita memilih kolom yang sudah di tentukan dari hasilnya\n",
    "selected = pd.Series(chi_ls, index=X_train.columns).sort_values(\n",
    "    ascending=True)[0:7].index\n",
    "\n",
    "selected"
   ]
  },
  {
   "cell_type": "markdown",
   "metadata": {},
   "source": [
    "#### Univariate Selection\n",
    "\n",
    "Univariate feature selection, di gunakan untuk memilih feature terbaik berdasarkan statistikan univariate testnya. Ini membuat asusmi adanya relasi linear antara feature dan target"
   ]
  },
  {
   "cell_type": "code",
   "execution_count": 31,
   "metadata": {},
   "outputs": [],
   "source": [
    "# Kita akan melakukan manual label mapping semua categorical feature\n",
    "train_anova = train_2.copy()\n",
    "\n",
    "mapping_pendidikan = {\n",
    "    'TK': 0,\n",
    "    'SD' : 1,\n",
    "    'SMP': 2,\n",
    "    'SMA': 3,\n",
    "    'SMA Grad': 4,\n",
    "    'Diploma': 5,\n",
    "    'Asosiasi akademik': 6,\n",
    "    'Asosiasi vokasional': 7,\n",
    "    'Sarjana': 8,\n",
    "    'Magister': 9,\n",
    "    'Doktor': 10,\n",
    "    'Proffesor': 11\n",
    "}\n",
    "\n",
    "# Apply mapping\n",
    "train_anova['Pendidikan'] = train_anova['Pendidikan'].map(mapping_pendidikan)\n",
    "\n",
    "mapping_status = {\n",
    "    'Belum-menikah': 0,\n",
    "    'Menikah': 1,\n",
    "    'Duda/Janda': 2,\n",
    "    'Cerai': 3,\n",
    "    'Rencana Cerai': 4\n",
    "}\n",
    "\n",
    "train_anova['Status'] = train_anova['Status'].map(mapping_status)\n",
    "\n",
    "mappingKelas_Pekerjaan = {\n",
    "    'Tidak bekerja': 0,\n",
    "    'Tanpa bayaran': 1,\n",
    "    'Swasta': 2,\n",
    "    'Pengusaha perorangan': 3,\n",
    "    'Pengusaha berbadan hukum': 4,\n",
    "    'Sektor Pemerintah': 5\n",
    "}\n",
    "\n",
    "# Apply mapping\n",
    "train_anova['Kelas Pekerjaan'] = train_anova['Kelas Pekerjaan'].map(mappingKelas_Pekerjaan)\n",
    "\n",
    "mapping_pekerjaan = {\n",
    "    'Eksekutif Manager': 1,\n",
    "    'Spesialis Profesional': 2,\n",
    "    'Dukungan Teknis': 3,\n",
    "    'Administratif dan Kantor': 4,\n",
    "    'Sales': 5,\n",
    "    'Transportasi dan Pengangkutan': 6,\n",
    "    'Inspeksi dan Operasi Mesin': 7,\n",
    "    'Pengelola Kebersihan': 8,\n",
    "    'Pekerjaan Kerajinan': 9,\n",
    "    'Pertanian dan Perikanan': 10,\n",
    "    'Layanan Perlindungan': 11,\n",
    "    'Layanan Lainnya': 12,\n",
    "    'Pembantu Rumah Tangga': 13,\n",
    "    'Angkatan Bersenjata': 14\n",
    "}\n",
    "\n",
    "# Apply mapping\n",
    "train_anova['Pekerjaan'] = train_anova['Pekerjaan'].map(mapping_pekerjaan)\n",
    "\n",
    "mapping_jenjangpendidikan = {\n",
    "    'TK': 0,\n",
    "    'SD': 1,\n",
    "    'SMP': 2,\n",
    "    'SMA': 3,\n",
    "    'SMA Grad': 4,\n",
    "    'Vokasi Grad': 5,\n",
    "    'Kuliah': 6,\n",
    "    'Sarjana': 7,\n",
    "    'Magister': 8,\n",
    "    'Doktor': 9,\n",
    "    'Proffesor': 10\n",
    "}\n",
    "\n",
    "# Apply mapping\n",
    "train_anova['Jenjang Pendidikan'] = train_anova['Jenjang Pendidikan'].map(mapping_jenjangpendidikan)\n",
    "\n",
    "mapping_countries = {\n",
    "    'United-States': 'United States',\n",
    "    'Trinadad&Tobago': 'Trinidad and Tobago',\n",
    "    'Columbia': 'Colombia',\n",
    "    'South': 'South Africa',\n",
    "    'Holand-Netherlands': 'Netherlands',\n",
    "    'Hong': 'Hong Kong',\n",
    "    'Outlying-US(Guam-USVI-etc)': 'United States (Guam, USVI, etc.)',\n",
    "    'Dominican-Republic': 'Dominican Republic',\n",
    "    'El-Salvador': 'El Salvador',\n",
    "    'Puerto-Rico': 'Puerto Rico',\n",
    "    'Cambodia': 'Cambodia',\n",
    "    'Scotland': 'United Kingdom',\n",
    "    'Yugoslavia': 'Serbia'\n",
    "}\n",
    "\n",
    "mapping_status_keluarga = {\n",
    "    'Tidak dalam Keluarga': 0,\n",
    "    'Belum Menikah': 1,\n",
    "    'Kerabat': 2,\n",
    "    'Istri': 3,\n",
    "    'Suami': 4,\n",
    "    'Punya Anak': 5\n",
    "}\n",
    "\n",
    "# Apply mapping\n",
    "train_anova['Hubungan'] = train_anova['Hubungan'].map(mapping_status_keluarga)\n",
    "\n",
    "# Apply mapping\n",
    "train_anova['Asal Negara'] = train_anova['Asal Negara'].map(mapping_countries).fillna(train_anova['Asal Negara'])\n"
   ]
  },
  {
   "cell_type": "code",
   "execution_count": 32,
   "metadata": {},
   "outputs": [],
   "source": [
    "le = LabelEncoder()\n",
    "\n",
    "for cols in ('sex', 'income'):\n",
    "    train_anova[cols] = le.fit_transform(train_anova[cols])\n",
    "    train_anova[cols] = le.fit_transform(train_anova[cols])"
   ]
  },
  {
   "cell_type": "code",
   "execution_count": 33,
   "metadata": {},
   "outputs": [],
   "source": [
    "# Disini kita membagi beberapa cara untuk encode kolom asal negara dengan frequency encoding, target encoding, \n",
    "# dan label encoding\n",
    "train_anova_target = train_anova.copy()\n",
    "train_anova_label = train_anova.copy()"
   ]
  },
  {
   "cell_type": "code",
   "execution_count": 34,
   "metadata": {},
   "outputs": [],
   "source": [
    "cols_fe = ['Asal Negara']\n",
    "\n",
    "# frequency encoding\n",
    "freq_enc = CountFrequencyEncoder(\n",
    "    encoding_method='frequency',\n",
    "    variables=cols_fe,\n",
    "    missing_values='ignore'\n",
    ")\n",
    "train_anova_frequency = freq_enc.fit_transform(train_anova)\n",
    "\n",
    "# target encoding\n",
    "target_enc = ce.TargetEncoder(cols=['Asal Negara'])\n",
    "train_anova_target['Asal Negara'] = target_enc.fit_transform(train_anova_target['Asal Negara'], train_anova_target['income'])\n",
    "\n",
    "# label encoding\n",
    "train_anova_label['Asal Negara'] = le.fit_transform(train_anova_label['Asal Negara'])"
   ]
  },
  {
   "cell_type": "markdown",
   "metadata": {},
   "source": [
    "#### Check for quasi-constant\n",
    "\n",
    "Quasi-Constant adalah teknik untuk mengahpus beberapa kolom yang memiliki persentase value dalam sebuah yaitu feature \n",
    "yang memiliki 95-99% value yang sama"
   ]
  },
  {
   "cell_type": "code",
   "execution_count": 35,
   "metadata": {},
   "outputs": [],
   "source": [
    "def remove_quasi(df):\n",
    "    X_train, X_test, y_train, y_test = train_test_split(\n",
    "        df.drop(labels=['income'], axis=1),\n",
    "        df['income'], \n",
    "        test_size=0.3,\n",
    "        random_state=0\n",
    "    )\n",
    "    # Disini kita menggunakan ambang batas , jika 99% data sama maka di drop\n",
    "    sel = VarianceThreshold(threshold=0.01)  \n",
    "    sel.fit(X_train)\n",
    "\n",
    "    quasi_constant = X_train.columns[~sel.get_support()]\n",
    "    \n",
    "    return df.drop(columns=quasi_constant)"
   ]
  },
  {
   "cell_type": "code",
   "execution_count": 36,
   "metadata": {},
   "outputs": [],
   "source": [
    "# Kita remove feature quasi-constant\n",
    "remove_frequency = remove_quasi(train_anova_frequency)\n",
    "remove_target = remove_quasi(train_anova_target)\n",
    "remove_label = remove_quasi(train_anova_label)"
   ]
  },
  {
   "cell_type": "markdown",
   "metadata": {},
   "source": [
    "#### Check Univariate"
   ]
  },
  {
   "cell_type": "code",
   "execution_count": 37,
   "metadata": {},
   "outputs": [],
   "source": [
    "from sklearn.feature_selection import SelectKBest, SelectPercentile\n",
    "from sklearn.feature_selection import f_classif\n",
    "\n",
    "\n",
    "def univariate_selection(df, encoding_type):\n",
    "    # Splitting data into training and test sets\n",
    "    X_train, X_test, y_train, y_test = train_test_split(\n",
    "        df.drop(labels=['income'], axis=1),\n",
    "        df['income'],\n",
    "        test_size=0.3,\n",
    "        random_state=0\n",
    "    )\n",
    "    \n",
    "    # Applying ANOVA F-test\n",
    "    # f_classif menghitung ANOVA F-test antara setiap fitur di X_trian dan target\n",
    "    univariate = f_classif(X_train, y_train)\n",
    "    \n",
    "    # Converting p-values to a pandas Series for easier handling\n",
    "    # univariate[1] mengacu pada daftsr p_value dari hasil uji ANOVA\n",
    "    univariate_series = pd.Series(univariate[1], index=X_train.columns)\n",
    "    \n",
    "    # SelecKBest digunakan untuk menmilih fitur terbaik berdasarkan nilai F-statistik, disini kita memilihi 10 fitur terbaik\n",
    "    sel_ = SelectKBest(f_classif, k=10).fit(X_train, y_train)\n",
    "    \n",
    "    # Sorting and plotting the p-values\n",
    "    univariate_series.sort_values(ascending=False).plot.bar(figsize=(10,6))\n",
    "    plt.title(f'Univariate Feature Selection (ANOVA) - {encoding_type} Encoding')\n",
    "    plt.ylabel('p-value')\n",
    "    plt.show()\n",
    "\n",
    "\n"
   ]
  },
  {
   "cell_type": "code",
   "execution_count": 38,
   "metadata": {},
   "outputs": [
    {
     "data": {
      "image/png": "[encoded data removed]",
      "text/plain": [
       "<Figure size 1000x600 with 1 Axes>"
      ]
     },
     "metadata": {},
     "output_type": "display_data"
    },
    {
     "data": {
      "image/png": "[encoded data removed]",
      "text/plain": [
       "<Figure size 1000x600 with 1 Axes>"
      ]
     },
     "metadata": {},
     "output_type": "display_data"
    },
    {
     "data": {
      "image/png": "[encoded data removed]",
      "text/plain": [
       "<Figure size 1000x600 with 1 Axes>"
      ]
     },
     "metadata": {},
     "output_type": "display_data"
    }
   ],
   "source": [
    "# List of encoded DataFrames with corresponding labels\n",
    "dfs = [\n",
    "    (train_anova_frequency, 'Frequency'),\n",
    "    (train_anova_target, 'Target'),\n",
    "    (train_anova_label, 'Label'),\n",
    "]\n",
    "\n",
    "# Running univariate selection and plotting for each encoded DataFrame\n",
    "for df, encoding_type in dfs:\n",
    "    univariate_selection(df, encoding_type)"
   ]
  },
  {
   "cell_type": "markdown",
   "metadata": {},
   "source": [
    "#### Remove feature yang memiliki p_value besar\n",
    "\n",
    "P_value yang besar menunjukan adanya perbedaan yang cukup signifikan antara variabel independen dengan targe. Ini berarti fitur tersebut tidak memiliki pengaruh yang signifikan"
   ]
  },
  {
   "cell_type": "code",
   "execution_count": 39,
   "metadata": {},
   "outputs": [],
   "source": [
    "frequency_removefeature = train_anova_frequency.drop(['Status','fnlwgt','no_income'],axis=1)\n",
    "target_removefeature = train_anova_target.drop(['Status','fnlwgt','no_income'],axis=1)\n",
    "label_removefeature = train_anova_label.drop(['Status','fnlwgt','no_income'],axis=1)"
   ]
  },
  {
   "cell_type": "markdown",
   "metadata": {},
   "source": [
    "#### Feature Shuffle\n",
    "\n",
    "Feature Shuffle memilihi dengan pengacakan acak adalah teknik untuk mengevaluasi fitur dalam pembelajaran model. Caranya adalan mengacak setiap fitur dan mengukur 1 per 1 mengukur seberapa penting sebuah feature menggunakan metrics F1-Score"
   ]
  },
  {
   "cell_type": "code",
   "execution_count": 40,
   "metadata": {},
   "outputs": [],
   "source": [
    "from sklearn.metrics import f1_score\n",
    "from sklearn.ensemble import GradientBoostingClassifier, RandomForestClassifier\n",
    "from sklearn.svm import SVC\n",
    "import xgboost as xgb\n",
    "import lightgbm as lgb\n",
    "from catboost import CatBoostClassifier"
   ]
  },
  {
   "cell_type": "code",
   "execution_count": 41,
   "metadata": {},
   "outputs": [],
   "source": [
    "def evaluate_feature_models(df):\n",
    "    # Splitting data into training and test sets\n",
    "    X_train, X_test, y_train, y_test = train_test_split(\n",
    "        df.drop(labels=['income'], axis=1),\n",
    "        df['income'],\n",
    "        test_size=0.3,\n",
    "        random_state=0\n",
    "    )\n",
    "    \n",
    "    # Initialize models\n",
    "    models = {\n",
    "        'Gradient Boosting': GradientBoostingClassifier(),\n",
    "        'XGBoost': xgb.XGBClassifier(use_label_encoder=False, eval_metric='mlogloss'),\n",
    "        'CatBoost': CatBoostClassifier(silent=True),\n",
    "        'LightGBM': lgb.LGBMClassifier(),\n",
    "        'Random Forest': RandomForestClassifier(),\n",
    "        'SVC': SVC(probability=True)\n",
    "    }\n",
    "\n",
    "    f1_scores = {model_name: [] for model_name in models.keys()}\n",
    "\n",
    "    for feature in X_train.columns:\n",
    "        for model_name, model_instance in models.items():\n",
    "            # Train the model on the current feature\n",
    "            model_instance.fit(X_train[feature].fillna(0).to_frame(), y_train)\n",
    "            \n",
    "            # Obtain predictions\n",
    "            y_pred = model_instance.predict(X_test[feature].to_frame())\n",
    "            \n",
    "            # Calculate and store the F1 score\n",
    "            f1 = f1_score(y_test, y_pred)\n",
    "            f1_scores[model_name].append(f1)\n",
    "    \n",
    "    f1_scores_df = pd.DataFrame(f1_scores, index=X_train.columns)\n",
    "\n",
    "    # Plot the F1 scores\n",
    "    f1_scores_df.plot(kind='bar', figsize=(14, 8))\n",
    "    plt.xlabel('Features')\n",
    "    plt.ylabel('F1 Score')\n",
    "    plt.title('F1 Scores of Different Models by Feature')\n",
    "    plt.legend(title='Models')\n",
    "    plt.show()"
   ]
  },
  {
   "cell_type": "code",
   "execution_count": 43,
   "metadata": {},
   "outputs": [],
   "source": [
    "# evaluate_feature_models(train_anova_target)\n",
    "# evaluate_feature_models(train_anova_label)\n",
    "# evaluate_feature_models(train_anova_frequency)"
   ]
  },
  {
   "cell_type": "code",
   "execution_count": 44,
   "metadata": {},
   "outputs": [],
   "source": [
    "from sklearn.metrics import classification_report, accuracy_score, f1_score\n",
    "\n",
    "def model_training(df):\n",
    "    X = df.drop(columns=['income'])  # Fitur (semua kolom kecuali income)\n",
    "    y = df['income']  # Target (kolom yang ingin diprediksi)\n",
    "\n",
    "    # Split dataset into training and testing sets\n",
    "    X_train, X_test, y_train, y_test = train_test_split(X, y, test_size=0.2, random_state=42)\n",
    "\n",
    "    # Create a RandomForestClassifier\n",
    "    rf = RandomForestClassifier(n_estimators=100, random_state=42)\n",
    "\n",
    "    # Train the model\n",
    "    rf.fit(X_train, y_train)\n",
    "\n",
    "    # Make predictions\n",
    "    y_pred = rf.predict(X_test)\n",
    "\n",
    "    # Evaluate the model using F1-score\n",
    "    f1 = f1_score(y_test, y_pred, average='weighted')\n",
    "\n",
    "    # Print results\n",
    "    print(\"Accuracy:\", accuracy_score(y_test, y_pred))\n",
    "    print(\"F1 Score (weighted):\", f1)\n",
    "    print(\"\\nClassification Report:\\n\", classification_report(y_test, y_pred))"
   ]
  },
  {
   "cell_type": "code",
   "execution_count": null,
   "metadata": {},
   "outputs": [],
   "source": [
    "model_training(train_anova_frequency)"
   ]
  },
  {
   "cell_type": "code",
   "execution_count": null,
   "metadata": {},
   "outputs": [],
   "source": [
    "model_training(train_anova_target)\n"
   ]
  },
  {
   "cell_type": "code",
   "execution_count": null,
   "metadata": {},
   "outputs": [],
   "source": [
    "model_training(train_anova_label)"
   ]
  },
  {
   "cell_type": "code",
   "execution_count": null,
   "metadata": {},
   "outputs": [],
   "source": [
    "model_training(frequency_removefeature)"
   ]
  },
  {
   "cell_type": "code",
   "execution_count": null,
   "metadata": {},
   "outputs": [],
   "source": [
    "model_training(target_removefeature)"
   ]
  },
  {
   "cell_type": "code",
   "execution_count": null,
   "metadata": {},
   "outputs": [],
   "source": [
    "model_training(label_removefeature) "
   ]
  },
  {
   "cell_type": "code",
   "execution_count": null,
   "metadata": {},
   "outputs": [],
   "source": [
    "from pycaret.classification import *\n",
    "import pandas as pd\n",
    "import numpy as np\n",
    "\n",
    "# Combine into a single DataFrame\n",
    "data = train_anova_label.drop('no_income', axis=1)\n",
    "\n",
    "# Initialize the PyCaret classification setup\n",
    "classification_setup = setup(data, target='income', session_id=123)\n",
    "\n",
    "# Compare baseline models based on weighted F1 score\n",
    "best_model = compare_models(sort='F1', fold=5)\n",
    "\n",
    "# Create and train the best model\n",
    "model = create_model(best_model)\n",
    "\n",
    "# Tune the model based on weighted F1 score\n",
    "tuned_model = tune_model(model, optimize='F1')\n",
    "\n",
    "# Finalize the model\n",
    "final_model = finalize_model(tuned_model)\n",
    "\n",
    "# Make predictions\n",
    "predictions = predict_model(final_model, data=X_train)\n",
    "\n",
    "# Evaluate model performance\n",
    "evaluate_model(final_model)\n"
   ]
  },
  {
   "cell_type": "code",
   "execution_count": null,
   "metadata": {},
   "outputs": [],
   "source": [
    "from pycaret.classification import *\n",
    "\n",
    "# Initialize the PyCaret classification setup\n",
    "classification_setup = setup(data, target='income', session_id=123)\n",
    "\n",
    "# Create and tune the LightGBM model\n",
    "lightgbm_model = create_model('lightgbm')\n",
    "tuned_lightgbm_model = tune_model(lightgbm_model, optimize='F1')\n",
    "\n",
    "# Finalize the model\n",
    "final_lightgbm_model = finalize_model(tuned_lightgbm_model)\n",
    "\n",
    "# Evaluate the model\n",
    "evaluate_model(final_lightgbm_model)"
   ]
  },
  {
   "cell_type": "code",
   "execution_count": null,
   "metadata": {},
   "outputs": [],
   "source": [
    "# predict_model(final_lightgbm_model, )"
   ]
  },
  {
   "cell_type": "markdown",
   "metadata": {},
   "source": [
    "# untuk test data"
   ]
  },
  {
   "cell_type": "code",
   "execution_count": null,
   "metadata": {},
   "outputs": [],
   "source": [
    "test = pd.read_csv('dataset/test.csv')\n",
    "\n",
    "test['Pendidikan'] = test['Pendidikan'].replace(['kelas 10', 'kelas 11', 'kelas 12'], 'SMA')\n",
    "\n",
    "# replace kelas 7-8, kelas 9 with SMP\n",
    "test['Pendidikan'] = test['Pendidikan'].replace(['kelas 7-8', 'kelas 9'], 'SMP')\n",
    "\n",
    "# replace kelas 1-4, kelas 5-6 with SD\n",
    "test['Pendidikan'] = test['Pendidikan'].replace(['kelas 1-4', 'kelas 5-6'], 'SD')\n",
    "\n",
    "test['Status'] = test['Status'].replace(['Menikahi tentara', 'LDM'], 'Menikah')\n",
    "\n",
    "test['Kelas Pekerjaan'] = test['Kelas Pekerjaan'].replace(['Pemerintah pusat', 'Pemerintah daerah',\n",
    "                                                             'Pemerintah negara'], 'Sektor Pemerintah')\n",
    "test['no_income'] = test['Kelas Pekerjaan'].apply(lambda x: 1 if x == 'Tanpa bayaran' or x == 'Tidak bekerja' else 0)\n",
    "\n",
    "# replace SMA_1, SMA_2, SMA_3 with SMA\n",
    "test['Jenjang Pendidikan'] = test['Jenjang Pendidikan'].replace(['SMA_1', 'SMA_2', 'SMA_3'], 'SMA')\n",
    "\n",
    "# replace SMP_1, SMP_2, SMP_3 with SMP\n",
    "test['Jenjang Pendidikan'] = test['Jenjang Pendidikan'].replace(['SMP_1', 'SMP_2', 'SMP_3'], 'SMP')\n",
    "\n",
    "# replace SD_1, SD_2, with SD\n",
    "test['Jenjang Pendidikan'] = test['Jenjang Pendidikan'].replace(['SD_1', 'SD_2'], 'SD')\n",
    "\n",
    "# replace vokasi Grad_1, vokasi Grad_2 with vokasi Grad\n",
    "test['Jenjang Pendidikan'] = test['Jenjang Pendidikan'].replace(['vokasi Grad_1', 'vokasi Grad_2'], 'Vokasi Grad')\n",
    "\n",
    "test['Asal Negara'] = test['Asal Negara'].replace(['?'], np.nan)\n",
    "\n",
    "# replace \"Hong\" with \"Hong Kong\"\n",
    "test['Asal Negara'] = test['Asal Negara'].replace(['Hong'], 'Hong Kong')\n",
    "\n",
    "missing_cols = ['Kelas Pekerjaan', 'Pekerjaan', 'Asal Negara']\n",
    "\n",
    "for col in missing_cols:\n",
    "    test[col] = test[col].fillna(method='ffill')\n",
    "\n",
    "# drop duplucated\n",
    "test.drop_duplicates(keep='first', inplace=True)\n",
    "\n",
    "test['Pendidikan'] = test['Pendidikan'].map(mapping_pendidikan)\n",
    "\n",
    "test['Status'] = test['Status'].map(mapping_status)\n",
    "\n",
    "test['Kelas Pekerjaan'] = test['Kelas Pekerjaan'].map(mappingKelas_Pekerjaan)\n",
    "\n",
    "test['Pekerjaan'] = test['Pekerjaan'].map(mapping_pekerjaan)\n",
    "\n",
    "test['Jenjang Pendidikan'] = test['Jenjang Pendidikan'].map(mapping_jenjangpendidikan)\n",
    "\n",
    "test['Asal Negara'] = test['Asal Negara'].map(mapping_countries).fillna(test['Asal Negara'])\n",
    "\n",
    "test['Hubungan'] = test['Hubungan'].map(mapping_status_keluarga)\n",
    "\n",
    "\n",
    "le = LabelEncoder()\n",
    "\n",
    "test['sex'] = le.fit_transform(test['sex'])\n",
    "test['sex'] = le.fit_transform(test['sex'])\n",
    "\n",
    "test['Asal Negara'] = le.fit_transform(test['Asal Negara'])"
   ]
  },
  {
   "cell_type": "code",
   "execution_count": null,
   "metadata": {},
   "outputs": [],
   "source": [
    "check_data(test)"
   ]
  },
  {
   "cell_type": "code",
   "execution_count": null,
   "metadata": {},
   "outputs": [],
   "source": [
    "test.to_csv('fixed_test.csv', index=False)"
   ]
  },
  {
   "cell_type": "code",
   "execution_count": null,
   "metadata": {},
   "outputs": [],
   "source": [
    "test.head()"
   ]
  },
  {
   "cell_type": "code",
   "execution_count": null,
   "metadata": {},
   "outputs": [],
   "source": [
    "train_anova_label.head()"
   ]
  },
  {
   "cell_type": "code",
   "execution_count": null,
   "metadata": {},
   "outputs": [],
   "source": [
    "# import lgbm\n",
    "from lightgbm import LGBMClassifier\n",
    "\n",
    "X = train_anova_label.drop(['income'], axis=1)  # Fitur (semua kolom kecuali target)\n",
    "y = train_anova_label['income']  # Target\n",
    "\n",
    "# Split data untuk training dan testing\n",
    "X_train, X_test, y_train, y_test = train_test_split(X, y, test_size=0.2, random_state=42)\n",
    "\n",
    "# Inisialisasi model LightGBM\n",
    "model = LGBMClassifier(\n",
    "    objective='binary',            # Ganti dengan objective sesuai kebutuhan (misalnya 'regression' untuk regresi)\n",
    "    metric='binary_error',         # Metrik yang digunakan untuk evaluasi model\n",
    "    n_estimators=100,              # Jumlah estimasi (trees)\n",
    "    learning_rate=0.1,             # Kecepatan pembelajaran\n",
    "    num_leaves=31,                 # Jumlah daun pada setiap pohon\n",
    "    max_depth=-1,                  # Kedalaman maksimum pohon, -1 berarti tidak ada batas\n",
    "    min_child_samples=20,          # Jumlah minimal sampel di setiap daun\n",
    "    subsample=0.8,                 # Rasio sampel yang digunakan untuk membangun setiap pohon\n",
    "    colsample_bytree=0.8,          # Rasio kolom yang digunakan untuk membangun setiap pohon\n",
    "    random_state=42\n",
    ")\n",
    "\n",
    "# Latih model\n",
    "model.fit(X_train, y_train)\n",
    "\n",
    "# Lakukan prediksi pada data test\n",
    "test_pred = model.predict(test.drop('ID',axis=1))"
   ]
  },
  {
   "cell_type": "code",
   "execution_count": null,
   "metadata": {},
   "outputs": [],
   "source": [
    "pycaret_model_df = predict_model(final_lightgbm_model, test.drop('ID', axis=1))\n",
    "pycaret_model_df.head()"
   ]
  },
  {
   "cell_type": "code",
   "execution_count": null,
   "metadata": {},
   "outputs": [],
   "source": [
    "pycaret_model_df['prediction_label']"
   ]
  },
  {
   "cell_type": "code",
   "execution_count": null,
   "metadata": {},
   "outputs": [],
   "source": [
    "\n",
    "submission_normal_lgbm = pd.DataFrame({\n",
    "    'ID': test['ID'],  # Ganti 'Id' dengan kolom ID di dataset Anda\n",
    "    'income': test_pred  # Ganti 'target' dengan nama kolom target yang sesuai\n",
    "})\n"
   ]
  },
  {
   "cell_type": "code",
   "execution_count": null,
   "metadata": {},
   "outputs": [],
   "source": [
    "\n",
    "submission_pycaret_lgbm = pd.DataFrame({\n",
    "    'ID': test['ID'],  # Ganti 'Id' dengan kolom ID di dataset Anda\n",
    "    'income': pycaret_model_df['prediction_label']  # Ganti 'target' dengan nama kolom target yang sesuai\n",
    "})\n"
   ]
  },
  {
   "cell_type": "code",
   "execution_count": null,
   "metadata": {},
   "outputs": [],
   "source": [
    "submission_normal_lgbm"
   ]
  },
  {
   "cell_type": "code",
   "execution_count": null,
   "metadata": {},
   "outputs": [],
   "source": [
    "submission_pycaret_lgbm = pd.DataFrame({\n",
    "    'ID': test['ID'],  # Ganti 'Id' dengan kolom ID di dataset Anda\n",
    "    'income': pycaret_model_df['prediction_label']  # Ganti 'target' dengan nama kolom target yang sesuai\n",
    "})\n"
   ]
  },
  {
   "cell_type": "code",
   "execution_count": null,
   "metadata": {},
   "outputs": [],
   "source": [
    "submission_pycaret_lgbm['income'].value_counts()"
   ]
  },
  {
   "cell_type": "code",
   "execution_count": null,
   "metadata": {},
   "outputs": [],
   "source": [
    "submission_pycaret_lgbm"
   ]
  },
  {
   "cell_type": "code",
   "execution_count": null,
   "metadata": {},
   "outputs": [],
   "source": [
    "submission_pycaret_lgbm.to_csv('submission__pycaret_lgbm.csv', index=False)"
   ]
  },
  {
   "cell_type": "markdown",
   "metadata": {},
   "source": [
    "Sampling"
   ]
  },
  {
   "cell_type": "code",
   "execution_count": null,
   "metadata": {},
   "outputs": [],
   "source": [
    "train_anova_label"
   ]
  },
  {
   "cell_type": "code",
   "execution_count": null,
   "metadata": {},
   "outputs": [],
   "source": [
    "train_anova_label['income'].value_counts()"
   ]
  },
  {
   "cell_type": "code",
   "execution_count": null,
   "metadata": {},
   "outputs": [],
   "source": [
    "# plot the percentage of train_anova_label['income'].value_counts() using pie chart\n",
    "plt.pie(train_anova_label['income'].value_counts(), labels=train_anova_label['income'].value_counts().index, autopct='%1.1f%%')\n",
    "plt.show()"
   ]
  },
  {
   "cell_type": "markdown",
   "metadata": {},
   "source": [
    "Try oversampling with fix_imbalanced"
   ]
  },
  {
   "cell_type": "code",
   "execution_count": null,
   "metadata": {},
   "outputs": [],
   "source": [
    "from pycaret.classification import *\n",
    "\n",
    "# Initialize the PyCaret classification setup with SMOTE\n",
    "classification_setup = setup(data=data, target='income', session_id=123, fix_imbalance=True, fix_imbalance_method='smote')\n",
    "\n",
    "# Compare models to select the best one\n",
    "best_model = compare_models()\n",
    "\n",
    "# Proceed with model creation, tuning, and finalization\n",
    "tuned_model = tune_model(best_model, optimize='F1')\n",
    "final_model = finalize_model(tuned_model)"
   ]
  },
  {
   "cell_type": "code",
   "execution_count": null,
   "metadata": {},
   "outputs": [],
   "source": [
    "# Make predictions on the test set\n",
    "predictions_sampling = predict_model(final_model, data=test)\n",
    "predictions_sampling"
   ]
  },
  {
   "cell_type": "code",
   "execution_count": null,
   "metadata": {},
   "outputs": [],
   "source": [
    "predictions_sampling['prediction_label'].value_counts()"
   ]
  },
  {
   "cell_type": "code",
   "execution_count": null,
   "metadata": {},
   "outputs": [],
   "source": [
    "submission_oversamping_smote = pd.DataFrame({\n",
    "    'ID': test['ID'],  # Ganti 'Id' dengan kolom ID di dataset Anda\n",
    "    'income': predictions_sampling['prediction_label']  # Ganti 'target' dengan nama kolom target yang sesuai\n",
    "})\n",
    "\n",
    "submission_oversamping_smote.head(20)"
   ]
  },
  {
   "cell_type": "code",
   "execution_count": null,
   "metadata": {},
   "outputs": [],
   "source": [
    "submission_pycaret_lgbm['income'].value_counts()"
   ]
  },
  {
   "cell_type": "code",
   "execution_count": null,
   "metadata": {},
   "outputs": [],
   "source": [
    "submission_normal_lgbm['income'].value_counts()"
   ]
  },
  {
   "cell_type": "code",
   "execution_count": null,
   "metadata": {},
   "outputs": [],
   "source": [
    "submission_oversamping_smote['income'].value_counts()"
   ]
  },
  {
   "cell_type": "code",
   "execution_count": null,
   "metadata": {},
   "outputs": [],
   "source": [
    "submission_oversamping_smote.to_csv('submission_oversamping_smote.csv', index=False)"
   ]
  }
 ],
 "metadata": {
  "kernelspec": {
   "display_name": "Python 3",
   "language": "python",
   "name": "python3"
  },
  "language_info": {
   "codemirror_mode": {
    "name": "ipython",
    "version": 3
   },
   "file_extension": ".py",
   "mimetype": "text/x-python",
   "name": "python",
   "nbconvert_exporter": "python",
   "pygments_lexer": "ipython3",
   "version": "3.12.2"
  }
 },
 "nbformat": 4,
 "nbformat_minor": 2
}
